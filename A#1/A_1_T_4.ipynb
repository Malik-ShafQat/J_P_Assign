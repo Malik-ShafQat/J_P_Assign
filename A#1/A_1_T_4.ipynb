{
 "cells": [
  {
   "cell_type": "markdown",
   "metadata": {},
   "source": [
    "# Muhammad ShafQat\n",
    "## m.shafqat2020@gmail.com\n",
    "### Assignment # 01"
   ]
  },
  {
   "cell_type": "code",
   "execution_count": 3,
   "metadata": {},
   "outputs": [
    {
     "name": "stdout",
     "output_type": "stream",
     "text": [
      "Enter the radius of a circle:707\n",
      "Area of a circle = 1569525.86\n"
     ]
    }
   ],
   "source": [
    "PI = 3.14\n",
    "rad = float(input(\"Enter the radius of a circle:\"))\n",
    "area = PI * rad * rad\n",
    "print(\"Area of a circle = %.2f\" %area)"
   ]
  },
  {
   "cell_type": "code",
   "execution_count": null,
   "metadata": {},
   "outputs": [],
   "source": []
  }
 ],
 "metadata": {
  "kernelspec": {
   "display_name": "Python 3",
   "language": "python",
   "name": "python3"
  },
  "language_info": {
   "codemirror_mode": {
    "name": "ipython",
    "version": 3
   },
   "file_extension": ".py",
   "mimetype": "text/x-python",
   "name": "python",
   "nbconvert_exporter": "python",
   "pygments_lexer": "ipython3",
   "version": "3.8.5"
  }
 },
 "nbformat": 4,
 "nbformat_minor": 4
}
