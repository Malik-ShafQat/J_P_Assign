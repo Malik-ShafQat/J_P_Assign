{
 "cells": [
  {
   "cell_type": "markdown",
   "metadata": {},
   "source": [
    "# Muhammad ShafQat\n",
    "## m.shafqat2020@gmail.com\n",
    "### Assignment # 01"
   ]
  },
  {
   "cell_type": "code",
   "execution_count": 5,
   "metadata": {},
   "outputs": [
    {
     "name": "stdout",
     "output_type": "stream",
     "text": [
      "Enter First Value: 123\n",
      "Enter Second Value: 987\n",
      "<class 'str'>\n",
      "<class 'str'>\n",
      "Concatenation 123987\n"
     ]
    }
   ],
   "source": [
    "a = input(\"Enter First Value: \")\n",
    "b = input(\"Enter Second Value: \")\n",
    "print(type(a))\n",
    "print(type(b))\n",
    "add = a+b\n",
    "print(\"Concatenation\",add)"
   ]
  },
  {
   "cell_type": "code",
   "execution_count": 6,
   "metadata": {},
   "outputs": [
    {
     "name": "stdout",
     "output_type": "stream",
     "text": [
      "Enter First Value: 123\n",
      "Enter Second Value: 987\n",
      "<class 'int'>\n",
      "<class 'int'>\n",
      "Addition: 1110\n"
     ]
    }
   ],
   "source": [
    "a = int(input(\"Enter First Value: \"))\n",
    "b = int(input(\"Enter Second Value: \"))\n",
    "print(type(a))\n",
    "print(type(b))\n",
    "add = a+b\n",
    "print(\"Addition:\",add)"
   ]
  },
  {
   "cell_type": "code",
   "execution_count": null,
   "metadata": {},
   "outputs": [],
   "source": []
  }
 ],
 "metadata": {
  "kernelspec": {
   "display_name": "Python 3",
   "language": "python",
   "name": "python3"
  },
  "language_info": {
   "codemirror_mode": {
    "name": "ipython",
    "version": 3
   },
   "file_extension": ".py",
   "mimetype": "text/x-python",
   "name": "python",
   "nbconvert_exporter": "python",
   "pygments_lexer": "ipython3",
   "version": "3.8.5"
  }
 },
 "nbformat": 4,
 "nbformat_minor": 4
}
