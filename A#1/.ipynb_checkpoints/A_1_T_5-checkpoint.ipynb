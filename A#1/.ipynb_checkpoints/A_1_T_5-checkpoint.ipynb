{
 "cells": [
  {
   "cell_type": "markdown",
   "metadata": {},
   "source": [
    "# Muhammad ShafQat\n",
    "## m.shafqat2020@gmail.com\n",
    "### Assignment # 01"
   ]
  },
  {
   "cell_type": "code",
   "execution_count": 13,
   "metadata": {},
   "outputs": [
    {
     "name": "stdout",
     "output_type": "stream",
     "text": [
      "Enter your First Name : Muhammad\n",
      "Enter your Last Name : ShafQat\n",
      "dammahuM taQfahS\n"
     ]
    }
   ],
   "source": [
    "#with space\n",
    "first_name = input(\"Enter your First Name : \")\n",
    "last_name = input(\"Enter your Last Name : \")\n",
    "print(f\"{first_name[::-1].strip()} {last_name[::-1].strip()}\")"
   ]
  },
  {
   "cell_type": "code",
   "execution_count": 14,
   "metadata": {},
   "outputs": [
    {
     "name": "stdout",
     "output_type": "stream",
     "text": [
      "Enter your First Name: Muhammad\n",
      "Enter your last Name: ShafQat\n",
      "dammahuMtaQfahS\n"
     ]
    }
   ],
   "source": [
    "#without space\n",
    "def my_function(x):\n",
    "  return x[::-1]\n",
    "\n",
    "f_name = input(\"Enter your First Name: \")\n",
    "f = my_function(f_name)\n",
    "l_name = input(\"Enter your last Name: \")\n",
    "l = my_function(l_name)\n",
    "print(f + l)"
   ]
  },
  {
   "cell_type": "code",
   "execution_count": null,
   "metadata": {},
   "outputs": [],
   "source": []
  }
 ],
 "metadata": {
  "kernelspec": {
   "display_name": "Python 3",
   "language": "python",
   "name": "python3"
  },
  "language_info": {
   "codemirror_mode": {
    "name": "ipython",
    "version": 3
   },
   "file_extension": ".py",
   "mimetype": "text/x-python",
   "name": "python",
   "nbconvert_exporter": "python",
   "pygments_lexer": "ipython3",
   "version": "3.8.5"
  }
 },
 "nbformat": 4,
 "nbformat_minor": 4
}
