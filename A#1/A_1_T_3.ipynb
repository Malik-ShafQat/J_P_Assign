{
 "cells": [
  {
   "cell_type": "markdown",
   "metadata": {},
   "source": [
    "# Muhammad ShafQat\n",
    "## m.shafqat2020@gmail.com\n",
    "### Assignment # 01"
   ]
  },
  {
   "cell_type": "code",
   "execution_count": 11,
   "metadata": {},
   "outputs": [
    {
     "name": "stdout",
     "output_type": "stream",
     "text": [
      "Today's current date is - 2021-12-30\n",
      "Date in DD/MM/YYYY format - 30/12/2021\n"
     ]
    }
   ],
   "source": [
    "from datetime import date\n",
    " \n",
    " \n",
    "today = date.today()\n",
    "fdate = date.today().strftime('%d/%m/%Y')\n",
    " \n",
    "print(\"Today's current date is -\", today)\n",
    "print(\"Date in DD/MM/YYYY format -\", fdate)"
   ]
  },
  {
   "cell_type": "code",
   "execution_count": 12,
   "metadata": {},
   "outputs": [
    {
     "name": "stdout",
     "output_type": "stream",
     "text": [
      " -:Time:- \n",
      "H | M |S\n",
      "02:24:08\n",
      "02:24:08\n"
     ]
    }
   ],
   "source": [
    "import time\n",
    "print (\" -:Time:- \")\n",
    "print(\"H | M |S\")\n",
    "print (time.strftime(\"%H:%M:%S\"))\n",
    " \n",
    "## 12 hour format ##\n",
    "print (time.strftime(\"%I:%M:%S\"))"
   ]
  },
  {
   "cell_type": "code",
   "execution_count": null,
   "metadata": {},
   "outputs": [],
   "source": []
  }
 ],
 "metadata": {
  "kernelspec": {
   "display_name": "Python 3",
   "language": "python",
   "name": "python3"
  },
  "language_info": {
   "codemirror_mode": {
    "name": "ipython",
    "version": 3
   },
   "file_extension": ".py",
   "mimetype": "text/x-python",
   "name": "python",
   "nbconvert_exporter": "python",
   "pygments_lexer": "ipython3",
   "version": "3.8.5"
  }
 },
 "nbformat": 4,
 "nbformat_minor": 4
}
