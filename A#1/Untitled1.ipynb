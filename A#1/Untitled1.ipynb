{
 "cells": [
  {
   "cell_type": "code",
   "execution_count": 5,
   "metadata": {},
   "outputs": [
    {
     "name": "stdout",
     "output_type": "stream",
     "text": [
      "Path\n"
     ]
    }
   ],
   "source": [
    "class Edge:\n",
    "    def __str__(self) -> str:\n",
    "        return 'Edge of: ' + self.node1 + ' and ' + self.node2\n",
    "\n",
    "    def __init__(self, node1, node2):\n",
    "        self.node1 = node1\n",
    "        self.node2 = node2\n",
    "\n",
    "class Graph:\n",
    "  def __init__(self):\n",
    "    self.nodes = []\n",
    "    self.edges = []\n",
    "\n",
    "  def adjacent_vertices(self, node):\n",
    "        nodes = []\n",
    "        for edge in self.edges:\n",
    "            if edge.node1 == node:\n",
    "                nodes.append(edge.node2)\n",
    "        return nodes\n",
    "\n",
    "graph = Graph()\n",
    "graph.nodes = ['a', 'b', 'c', 'd', 'e', 'f']\n",
    "graph.edges = [\n",
    "    Edge('a', 'b'),\n",
    "    Edge('a', 'c'),\n",
    "    Edge('b', 'd'),\n",
    "    Edge('b', 'e'),\n",
    "    Edge('e', 'f'),\n",
    "    Edge('c', 'f'),\n",
    "]\n",
    "\n",
    "def neighbours(a, b):\n",
    "    for i in  graph.adjacent_vertices(a):\n",
    "        if b == i:\n",
    "            return True\n",
    "    return False\n",
    "\n",
    "if __name__ == '__main__':\n",
    "    print(\"Path\" if neighbours('a','b')  else \"doesNot Path\" )"
   ]
  },
  {
   "cell_type": "code",
   "execution_count": 1,
   "metadata": {},
   "outputs": [
    {
     "name": "stdout",
     "output_type": "stream",
     "text": [
      "Hello World\n"
     ]
    }
   ],
   "source": [
    "print(\"Hello World\")"
   ]
  },
  {
   "cell_type": "code",
   "execution_count": null,
   "metadata": {},
   "outputs": [],
   "source": []
  }
 ],
 "metadata": {
  "kernelspec": {
   "display_name": "Python 3",
   "language": "python",
   "name": "python3"
  },
  "language_info": {
   "codemirror_mode": {
    "name": "ipython",
    "version": 3
   },
   "file_extension": ".py",
   "mimetype": "text/x-python",
   "name": "python",
   "nbconvert_exporter": "python",
   "pygments_lexer": "ipython3",
   "version": "3.8.5"
  }
 },
 "nbformat": 4,
 "nbformat_minor": 4
}
